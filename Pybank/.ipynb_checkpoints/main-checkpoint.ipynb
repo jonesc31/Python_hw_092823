{
 "cells": [
  {
   "cell_type": "code",
   "execution_count": 1,
   "id": "c7388566-a1a0-4873-b3e3-e5db0ed77025",
   "metadata": {},
   "outputs": [
    {
     "ename": "SyntaxError",
     "evalue": "unterminated string literal (detected at line 20) (1863545912.py, line 20)",
     "output_type": "error",
     "traceback": [
      "\u001b[0;36m  Cell \u001b[0;32mIn[1], line 20\u001b[0;36m\u001b[0m\n\u001b[0;31m    reader = csv.reader'file name\"(financial_data)\u001b[0m\n\u001b[0m                       ^\u001b[0m\n\u001b[0;31mSyntaxError\u001b[0m\u001b[0;31m:\u001b[0m unterminated string literal (detected at line 20)\n"
     ]
    }
   ],
   "source": [
    "Your task is to create a Python script that analyzes the records to calculate each of the following:\n",
    "\n",
    "\n",
    "The total number of months included in the dataset.\n",
    "\n",
    "#Create variables\n",
    "total_months = 0\n",
    "month_of_change = []\n",
    "net_change_list = []\n",
    "greatest_increase = [\"\",0]\n",
    "greatest_decrease = [\"\",0]\n",
    "total_net = 0\n",
    "\n",
    "\n",
    "#the loop\n",
    "\n",
    "import budget_data.csv\n",
    "\n",
    "import csv\n",
    "from pathlib import path\n",
    "\n",
    "#read csv, setup a reader object\n",
    "\n",
    "with open(file_to_load) as financial_data:\n",
    "    reader = csv.reader'file name\"(financial_data)\n",
    "    \n",
    "    header = next(reader)\n",
    "    \n",
    "    #calculating metrics from the first row\n",
    "    first_row = nest(reader)\n",
    "    total_month = total_month +1 #counting the first month\n",
    "    total_net = total_net + int(first_row[1])\n",
    "    prev_net = int(first_row[1])\n",
    "\n",
    "#populate metrics\n",
    "for row in reader:\n",
    "    total_months = total_months +1\n",
    "      total_net = total net +int(row[1])\n",
    "        \n",
    "        #harder metrics, track the change, row over row\n",
    "        net_change = int(row[1])- prev_net\n",
    "        prev_net = int(row[1]) \n",
    "        net_change_list = net_change_list.append[net_change]\n",
    "        month_of_change = month_of_change.append[row[0]]\n",
    "        \n",
    "        #calculate greatest increase\n",
    "        if net_change > greatest_increase[1]:\n",
    "            greatest_increase[0] = row[0]\n",
    "            greatest_increase[1] = net_change\n",
    "        \n",
    "        #calculate greatest decrease\n",
    "            if net_change < greatest_decrease[1]:\n",
    "            greatest_decrease[0] = row[0]\n",
    "            greatest_decrease[1] = net_change\n",
    "   "
   ]
  },
  {
   "cell_type": "code",
   "execution_count": null,
   "id": "697856cb-88d7-4c60-9032-533561bf2381",
   "metadata": {},
   "outputs": [],
   "source": [
    "net_monthly_avg = sum(net_change_list) / len(net_change_list)"
   ]
  },
  {
   "cell_type": "code",
   "execution_count": null,
   "id": "5d181777-c6d7-43ff-a597-ccf2c55dd5d2",
   "metadata": {},
   "outputs": [],
   "source": [
    "with open(file_to_output, 'w') as txt_file:\n",
    "    txt_file.write(f\"financial analysis\\n\")\n",
    "    txt_file.write(f\"--------------------\\n\")\n",
    "    txt_file.write(f\"Total Months: {total_months}\\n\")\n",
    "    txt_file.write(f\"Total: ${total_net}\\n\")\n",
    "    txt_file.write(f\"Average Change: ${net_monthly_avg}\\n\")\n",
    "    txt_file.write(f\"Greatest Increase in Profits: {greatest_increase[0]}\\)\n"
   ]
  }
 ],
 "metadata": {
  "kernelspec": {
   "display_name": "Python 3 (ipykernel)",
   "language": "python",
   "name": "python3"
  },
  "language_info": {
   "codemirror_mode": {
    "name": "ipython",
    "version": 3
   },
   "file_extension": ".py",
   "mimetype": "text/x-python",
   "name": "python",
   "nbconvert_exporter": "python",
   "pygments_lexer": "ipython3",
   "version": "3.11.4"
  }
 },
 "nbformat": 4,
 "nbformat_minor": 5
}
