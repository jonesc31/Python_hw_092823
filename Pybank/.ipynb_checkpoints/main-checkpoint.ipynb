{
 "cells": [
  {
   "cell_type": "code",
   "execution_count": 1,
   "id": "c7388566-a1a0-4873-b3e3-e5db0ed77025",
   "metadata": {},
   "outputs": [],
   "source": [
    "import csv\n",
    "from pathlib import Path"
   ]
  },
  {
   "cell_type": "code",
   "execution_count": 2,
   "id": "e8476182-b18d-4521-8712-688aa7bde1fb",
   "metadata": {
    "tags": []
   },
   "outputs": [],
   "source": [
    "file_path = Path(\"budget_data.csv\")\n",
    "file_to_output = Path(\"output.txt\")"
   ]
  },
  {
   "cell_type": "code",
   "execution_count": 3,
   "id": "02131fcc-c9d5-45f3-9141-5e1cb0ff426b",
   "metadata": {
    "tags": []
   },
   "outputs": [],
   "source": [
    "#Your task is to create a Python script that analyzes the records to calculate each of the following:\n",
    "#The total number of months included in the dataset.\n",
    "\n",
    "#Create variables\n",
    "\n",
    "total_months = 0\n",
    "month_of_change = []\n",
    "net_change_list = []\n",
    "greatest_increase = [\"\",0]\n",
    "greatest_decrease = [\"\",0]\n",
    "total_net = 0\n"
   ]
  },
  {
   "cell_type": "code",
   "execution_count": 4,
   "id": "dce75e42-6d07-43e6-a04d-6bfb3b580b88",
   "metadata": {
    "tags": []
   },
   "outputs": [
    {
     "name": "stdout",
     "output_type": "stream",
     "text": [
      "['Date', 'Profit/Losses']\n"
     ]
    }
   ],
   "source": [
    "\n",
    "#read csv, setup a reader object\n",
    "\n",
    "with open(file_path) as financial_data:\n",
    "    reader = csv.reader(financial_data)\n",
    "    \n",
    "    header = next(reader)\n",
    "    print(header)\n",
    "    \n",
    "#calculating metrics from the first row\n",
    "    first_row = next(reader)\n",
    "    #print(first_row)\n",
    "    #print(first_row[0])\n",
    "    #print(first_row[1])\n",
    "    \n",
    "    total_months = total_months +1 #counting the first month\n",
    "    #print(total_months)\n",
    "    \n",
    "    total_net = total_net + int(first_row[1])\n",
    "    #print(total_net)\n",
    "    \n",
    "    prev_net = int(first_row[1])\n",
    "\n",
    "#populate metrics\n",
    "    for row in reader:\n",
    "        total_months = total_months +1\n",
    "        total_net = total_net +int(row[1])\n",
    "        \n",
    "        #harder metrics, track the change, row over row\n",
    "        net_change = int(row[1])- prev_net\n",
    "        prev_net = int(row[1]) \n",
    "        net_change_list = net_change_list + [net_change]\n",
    "        month_of_change = month_of_change + [row[0]]\n",
    "       # print(net_change_list)\n",
    "        #print(month_of_change)\n",
    "        \n",
    "        #calculate greatest increase\n",
    "        if net_change > greatest_increase[1]:\n",
    "            greatest_increase[0] = row[0]\n",
    "            greatest_increase[1] = net_change\n",
    "            #print(greatest_increase[1])\n",
    "        \n",
    "        #calculate greatest decrease\n",
    "        if net_change < greatest_decrease[1]:\n",
    "            greatest_decrease[0] = row[0]\n",
    "            greatest_decrease[1] = net_change\n",
    "            #print(greatest_decrease[1])\n",
    "   "
   ]
  },
  {
   "cell_type": "code",
   "execution_count": 5,
   "id": "697856cb-88d7-4c60-9032-533561bf2381",
   "metadata": {},
   "outputs": [],
   "source": [
    "net_monthly_avg = round(sum(net_change_list) / len(net_change_list), 2)"
   ]
  },
  {
   "cell_type": "code",
   "execution_count": 6,
   "id": "314c21a5-537b-47f2-b0f9-9ab57e8da1e4",
   "metadata": {
    "tags": []
   },
   "outputs": [
    {
     "name": "stdout",
     "output_type": "stream",
     "text": [
      "the total number of months in the analysis is 86.\n",
      "the net total in the analysis is 38382578\n",
      "the average change in the analysis is -2315.12\n",
      "the greatest decrease in the analysis is ['Sep-2013', -2196167]\n"
     ]
    }
   ],
   "source": [
    "print(f\"the total number of months in the analysis is {total_months}.\")\n",
    "print(f\"the net total in the analysis is\", total_net)\n",
    "print(f\"the average change in the analysis is\", net_monthly_avg)\n",
    "print(f\"the greatest decrease in the analysis is\", greatest_decrease)\n"
   ]
  },
  {
   "cell_type": "code",
   "execution_count": 7,
   "id": "5d181777-c6d7-43ff-a597-ccf2c55dd5d2",
   "metadata": {},
   "outputs": [],
   "source": [
    "with open(file_to_output, 'w') as txt_file:\n",
    "    txt_file.write(f\"financial analysis\\n\")\n",
    "    txt_file.write(f\"--------------------\\n\")\n",
    "    txt_file.write(f\"Total Months: {total_months}\\n\")\n",
    "    txt_file.write(f\"Total: ${total_net}\\n\")\n",
    "    txt_file.write(f\"Average Change: ${net_monthly_avg}\\n\")\n",
    "    txt_file.write(f\"Greatest Increase in Profits: {greatest_increase[0]}\\n\")\n",
    "    txt_file.write(f\"Greatest Decrease in Profits: {greatest_decrease[1]}\\n\")\n"
   ]
  },
  {
   "cell_type": "code",
   "execution_count": null,
   "id": "4d5eee31-4365-47a3-bb02-b79d2f0d766d",
   "metadata": {},
   "outputs": [],
   "source": []
  }
 ],
 "metadata": {
  "kernelspec": {
   "display_name": "Python 3 (ipykernel)",
   "language": "python",
   "name": "python3"
  },
  "language_info": {
   "codemirror_mode": {
    "name": "ipython",
    "version": 3
   },
   "file_extension": ".py",
   "mimetype": "text/x-python",
   "name": "python",
   "nbconvert_exporter": "python",
   "pygments_lexer": "ipython3",
   "version": "3.11.4"
  }
 },
 "nbformat": 4,
 "nbformat_minor": 5
}
